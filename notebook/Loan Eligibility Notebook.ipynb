{
 "cells": [
  {
   "cell_type": "markdown",
   "id": "59cdb9da",
   "metadata": {},
   "source": [
    "## Importing The Necessary Libraries"
   ]
  },
  {
   "cell_type": "code",
   "execution_count": 1,
   "id": "6bb1029a",
   "metadata": {},
   "outputs": [],
   "source": [
    "import sagemaker\n",
    "import boto3\n",
    "from sagemaker.amazon.amazon_estimator import get_image_uri \n",
    "from sagemaker.session import s3_input, Session"
   ]
  },
  {
   "cell_type": "markdown",
   "id": "b02f52cf",
   "metadata": {},
   "source": [
    "## Creating an S3 Bucket"
   ]
  },
  {
   "cell_type": "code",
   "execution_count": 2,
   "id": "c144272e",
   "metadata": {},
   "outputs": [
    {
     "name": "stdout",
     "output_type": "stream",
     "text": [
      "us-east-1\n"
     ]
    }
   ],
   "source": [
    "bucket_name = 'loanapplication1'\n",
    "my_region = boto3.session.Session().region_name\n",
    "print(my_region)"
   ]
  },
  {
   "cell_type": "code",
   "execution_count": 3,
   "id": "0f6e46e7",
   "metadata": {},
   "outputs": [
    {
     "name": "stdout",
     "output_type": "stream",
     "text": [
      "S3 bucket created successfully\n"
     ]
    }
   ],
   "source": [
    "s3 = boto3.resource('s3')\n",
    "try:\n",
    "    if  my_region == 'us-east-1':\n",
    "        s3.create_bucket(Bucket=bucket_name)\n",
    "    print('S3 bucket created successfully')\n",
    "except Exception as e:\n",
    "    print('S3 error: ',e)"
   ]
  },
  {
   "cell_type": "code",
   "execution_count": 4,
   "id": "b5f0ca94",
   "metadata": {},
   "outputs": [
    {
     "name": "stdout",
     "output_type": "stream",
     "text": [
      "s3://loanapplication1/xgboost-as-a-built-in-algo/output\n"
     ]
    }
   ],
   "source": [
    "# setting an output path where the trained model will be saved\n",
    "prefix = 'xgboost-as-a-built-in-algo'\n",
    "output_path ='s3://{}/{}/output'.format(bucket_name, prefix) # 's3://loanaplication1/xgboost-as-a-built-in-algo//output'\n",
    "print(output_path)\n"
   ]
  },
  {
   "cell_type": "markdown",
   "id": "e89fdb14",
   "metadata": {},
   "source": [
    "## Data Importation"
   ]
  },
  {
   "cell_type": "code",
   "execution_count": 5,
   "id": "0821f261",
   "metadata": {},
   "outputs": [],
   "source": [
    "import pandas as pd\n",
    "import urllib"
   ]
  },
  {
   "cell_type": "code",
   "execution_count": 6,
   "id": "4aa5b38f",
   "metadata": {},
   "outputs": [],
   "source": [
    "url = 'https://github.com/chetanhalai3c/Loan-Prediction/blob/main/Loan-processed_data.xlsx'"
   ]
  },
  {
   "cell_type": "code",
   "execution_count": 7,
   "id": "601ed2d0",
   "metadata": {},
   "outputs": [],
   "source": [
    "df = pd.read_csv('https://s3.console.aws.amazon.com/s3/object/loanapplication1?region=us-east-1&prefix=Loan-processed_data.csv')"
   ]
  },
  {
   "cell_type": "code",
   "execution_count": 8,
   "id": "99e2c486",
   "metadata": {},
   "outputs": [
    {
     "name": "stdout",
     "output_type": "stream",
     "text": [
      "s3.Bucket(name='loanapplication1')\n",
      "s3.Bucket(name='sagemaker-studio-a5y6sg2zrh')\n",
      "s3.Bucket(name='sagemaker-us-east-1-461558334125')\n"
     ]
    }
   ],
   "source": [
    "for bucket in s3.buckets.all():\n",
    "    print(bucket)"
   ]
  },
  {
   "cell_type": "code",
   "execution_count": 9,
   "id": "b1b45214",
   "metadata": {},
   "outputs": [],
   "source": [
    "for file in bucket.objects.all():\n",
    "    print(file.key)"
   ]
  },
  {
   "cell_type": "code",
   "execution_count": 10,
   "id": "a53c512b",
   "metadata": {},
   "outputs": [],
   "source": [
    "#s3://loanapplication1/loanData/ # https://loanapplication1.s3.amazonaws.com/loanData/Loan-processed_data.csv"
   ]
  },
  {
   "cell_type": "code",
   "execution_count": 11,
   "id": "c70624ce",
   "metadata": {},
   "outputs": [
    {
     "name": "stdout",
     "output_type": "stream",
     "text": [
      "Data load error:  HTTP Error 403: Forbidden\n",
      "Data load error:  [Errno 2] No such file or directory: './loan_clean_data.csv'\n"
     ]
    }
   ],
   "source": [
    "import urllib\n",
    "try:\n",
    "    urllib.request.urlretrieve (\"https://loanapplication1.s3.amazonaws.com/loanData/Loan-processed_data.csv\", \"loan_clean_data.csv\")\n",
    "    print('Success: download completed.')\n",
    "except Exception as e:\n",
    "    print('Data load error: ',e)\n",
    "\n",
    "try:\n",
    "    model_data = pd.read_csv('./loan_clean_data.csv')\n",
    "    print('Success: Data loaded into dataframe.')\n",
    "except Exception as e:\n",
    "    print('Data load error: ',e)"
   ]
  },
  {
   "cell_type": "code",
   "execution_count": 12,
   "id": "0b69b68d",
   "metadata": {},
   "outputs": [],
   "source": [
    "# Getting data from AWS S3 bucket\n",
    "s3 = boto3.client('s3')\n",
    "obj = s3.get_object(Bucket = 'loanapplication1',Key = 'loanData/Loan-processed_data.csv')\n",
    "\n",
    "df = pd.read_csv(obj['Body'])"
   ]
  },
  {
   "cell_type": "code",
   "execution_count": 13,
   "id": "f033766c",
   "metadata": {},
   "outputs": [
    {
     "data": {
      "text/html": [
       "<div>\n",
       "<style scoped>\n",
       "    .dataframe tbody tr th:only-of-type {\n",
       "        vertical-align: middle;\n",
       "    }\n",
       "\n",
       "    .dataframe tbody tr th {\n",
       "        vertical-align: top;\n",
       "    }\n",
       "\n",
       "    .dataframe thead th {\n",
       "        text-align: right;\n",
       "    }\n",
       "</style>\n",
       "<table border=\"1\" class=\"dataframe\">\n",
       "  <thead>\n",
       "    <tr style=\"text-align: right;\">\n",
       "      <th></th>\n",
       "      <th>Loan Status</th>\n",
       "      <th>Current Loan Amount</th>\n",
       "      <th>Credit Score</th>\n",
       "      <th>Annual Income</th>\n",
       "      <th>Monthly Debt</th>\n",
       "      <th>Years of Credit History</th>\n",
       "      <th>Number of Open Accounts</th>\n",
       "      <th>Number of Credit Problems</th>\n",
       "      <th>Current Credit Balance</th>\n",
       "      <th>Maximum Open Credit</th>\n",
       "      <th>...</th>\n",
       "      <th>Years in current job_one or less year</th>\n",
       "      <th>Years in current job_six or seven years</th>\n",
       "      <th>Years in current job_two or three years</th>\n",
       "      <th>Home Ownership_Own Home</th>\n",
       "      <th>Home Ownership_Rent</th>\n",
       "      <th>Purpose_business</th>\n",
       "      <th>Purpose_essentials</th>\n",
       "      <th>Purpose_home_improvement</th>\n",
       "      <th>Purpose_luxury_purchase</th>\n",
       "      <th>Purpose_others</th>\n",
       "    </tr>\n",
       "  </thead>\n",
       "  <tbody>\n",
       "    <tr>\n",
       "      <th>0</th>\n",
       "      <td>0</td>\n",
       "      <td>12232</td>\n",
       "      <td>7280</td>\n",
       "      <td>46643.0</td>\n",
       "      <td>777</td>\n",
       "      <td>18.0</td>\n",
       "      <td>12</td>\n",
       "      <td>0</td>\n",
       "      <td>6762</td>\n",
       "      <td>7946</td>\n",
       "      <td>...</td>\n",
       "      <td>1</td>\n",
       "      <td>0</td>\n",
       "      <td>0</td>\n",
       "      <td>0</td>\n",
       "      <td>1</td>\n",
       "      <td>0</td>\n",
       "      <td>0</td>\n",
       "      <td>0</td>\n",
       "      <td>0</td>\n",
       "      <td>0</td>\n",
       "    </tr>\n",
       "    <tr>\n",
       "      <th>1</th>\n",
       "      <td>0</td>\n",
       "      <td>25014</td>\n",
       "      <td>7330</td>\n",
       "      <td>81099.0</td>\n",
       "      <td>892</td>\n",
       "      <td>26.7</td>\n",
       "      <td>14</td>\n",
       "      <td>0</td>\n",
       "      <td>35706</td>\n",
       "      <td>77961</td>\n",
       "      <td>...</td>\n",
       "      <td>0</td>\n",
       "      <td>0</td>\n",
       "      <td>0</td>\n",
       "      <td>0</td>\n",
       "      <td>0</td>\n",
       "      <td>0</td>\n",
       "      <td>0</td>\n",
       "      <td>0</td>\n",
       "      <td>0</td>\n",
       "      <td>0</td>\n",
       "    </tr>\n",
       "    <tr>\n",
       "      <th>2</th>\n",
       "      <td>0</td>\n",
       "      <td>16117</td>\n",
       "      <td>7240</td>\n",
       "      <td>60438.0</td>\n",
       "      <td>1244</td>\n",
       "      <td>16.7</td>\n",
       "      <td>11</td>\n",
       "      <td>1</td>\n",
       "      <td>11275</td>\n",
       "      <td>14815</td>\n",
       "      <td>...</td>\n",
       "      <td>0</td>\n",
       "      <td>0</td>\n",
       "      <td>0</td>\n",
       "      <td>0</td>\n",
       "      <td>0</td>\n",
       "      <td>0</td>\n",
       "      <td>0</td>\n",
       "      <td>1</td>\n",
       "      <td>0</td>\n",
       "      <td>0</td>\n",
       "    </tr>\n",
       "    <tr>\n",
       "      <th>3</th>\n",
       "      <td>0</td>\n",
       "      <td>11716</td>\n",
       "      <td>7400</td>\n",
       "      <td>34171.0</td>\n",
       "      <td>990</td>\n",
       "      <td>10.0</td>\n",
       "      <td>21</td>\n",
       "      <td>0</td>\n",
       "      <td>7009</td>\n",
       "      <td>43533</td>\n",
       "      <td>...</td>\n",
       "      <td>0</td>\n",
       "      <td>0</td>\n",
       "      <td>1</td>\n",
       "      <td>0</td>\n",
       "      <td>1</td>\n",
       "      <td>0</td>\n",
       "      <td>0</td>\n",
       "      <td>0</td>\n",
       "      <td>0</td>\n",
       "      <td>0</td>\n",
       "    </tr>\n",
       "    <tr>\n",
       "      <th>4</th>\n",
       "      <td>0</td>\n",
       "      <td>9789</td>\n",
       "      <td>6860</td>\n",
       "      <td>47003.0</td>\n",
       "      <td>503</td>\n",
       "      <td>16.7</td>\n",
       "      <td>13</td>\n",
       "      <td>1</td>\n",
       "      <td>16913</td>\n",
       "      <td>19553</td>\n",
       "      <td>...</td>\n",
       "      <td>0</td>\n",
       "      <td>0</td>\n",
       "      <td>0</td>\n",
       "      <td>0</td>\n",
       "      <td>0</td>\n",
       "      <td>0</td>\n",
       "      <td>0</td>\n",
       "      <td>1</td>\n",
       "      <td>0</td>\n",
       "      <td>0</td>\n",
       "    </tr>\n",
       "  </tbody>\n",
       "</table>\n",
       "<p>5 rows × 25 columns</p>\n",
       "</div>"
      ],
      "text/plain": [
       "   Loan Status  Current Loan Amount  Credit Score  Annual Income  \\\n",
       "0            0                12232          7280        46643.0   \n",
       "1            0                25014          7330        81099.0   \n",
       "2            0                16117          7240        60438.0   \n",
       "3            0                11716          7400        34171.0   \n",
       "4            0                 9789          6860        47003.0   \n",
       "\n",
       "   Monthly Debt  Years of Credit History  Number of Open Accounts  \\\n",
       "0           777                     18.0                       12   \n",
       "1           892                     26.7                       14   \n",
       "2          1244                     16.7                       11   \n",
       "3           990                     10.0                       21   \n",
       "4           503                     16.7                       13   \n",
       "\n",
       "   Number of Credit Problems  Current Credit Balance  Maximum Open Credit  \\\n",
       "0                          0                    6762                 7946   \n",
       "1                          0                   35706                77961   \n",
       "2                          1                   11275                14815   \n",
       "3                          0                    7009                43533   \n",
       "4                          1                   16913                19553   \n",
       "\n",
       "   ...  Years in current job_one or less year  \\\n",
       "0  ...                                      1   \n",
       "1  ...                                      0   \n",
       "2  ...                                      0   \n",
       "3  ...                                      0   \n",
       "4  ...                                      0   \n",
       "\n",
       "   Years in current job_six or seven years  \\\n",
       "0                                        0   \n",
       "1                                        0   \n",
       "2                                        0   \n",
       "3                                        0   \n",
       "4                                        0   \n",
       "\n",
       "   Years in current job_two or three years  Home Ownership_Own Home  \\\n",
       "0                                        0                        0   \n",
       "1                                        0                        0   \n",
       "2                                        0                        0   \n",
       "3                                        1                        0   \n",
       "4                                        0                        0   \n",
       "\n",
       "   Home Ownership_Rent  Purpose_business  Purpose_essentials  \\\n",
       "0                    1                 0                   0   \n",
       "1                    0                 0                   0   \n",
       "2                    0                 0                   0   \n",
       "3                    1                 0                   0   \n",
       "4                    0                 0                   0   \n",
       "\n",
       "   Purpose_home_improvement  Purpose_luxury_purchase  Purpose_others  \n",
       "0                         0                        0               0  \n",
       "1                         0                        0               0  \n",
       "2                         1                        0               0  \n",
       "3                         0                        0               0  \n",
       "4                         1                        0               0  \n",
       "\n",
       "[5 rows x 25 columns]"
      ]
     },
     "execution_count": 13,
     "metadata": {},
     "output_type": "execute_result"
    }
   ],
   "source": [
    "df.head()"
   ]
  },
  {
   "cell_type": "code",
   "execution_count": 14,
   "id": "b8b54c76",
   "metadata": {},
   "outputs": [],
   "source": [
    "# df = pd.read_csv('s3://loanapplication1/loanData/Loan-processed_data.csv') "
   ]
  },
  {
   "cell_type": "code",
   "execution_count": 15,
   "id": "f0a39235",
   "metadata": {},
   "outputs": [],
   "source": [
    "# try:\n",
    "#     urllib.request.urlretrieve (url)\n",
    "#     print('Success: downloaded processed data')\n",
    "# except Exception as e:\n",
    "#     print('Data load error: ',e)\n",
    "\n",
    "# try:\n",
    "#     model_data = pd.read_excel( )\n",
    "#     print('Success: Data loaded into dataframe.')\n",
    "# except Exception as e:\n",
    "#     print('Data load error: ',e)\n",
    "\n",
    "#this function was supposed to import the data from the github link - however we opted to transform the data to csv \n",
    "# and store the data into the s3 bucket and then call it - (see above)"
   ]
  },
  {
   "cell_type": "markdown",
   "id": "045958f3",
   "metadata": {},
   "source": [
    "## Spliting data into trainset and test set "
   ]
  },
  {
   "cell_type": "code",
   "execution_count": 16,
   "id": "60aefeba",
   "metadata": {},
   "outputs": [
    {
     "name": "stdout",
     "output_type": "stream",
     "text": [
      "(56414, 25) (24178, 25)\n"
     ]
    }
   ],
   "source": [
    "import numpy as np\n",
    "train_data, test_data = np.split(df.sample(frac=1, random_state=42), [int(0.7 * len(df))])\n",
    "print(train_data.shape, test_data.shape)"
   ]
  },
  {
   "cell_type": "code",
   "execution_count": 17,
   "id": "7b869a37",
   "metadata": {},
   "outputs": [
    {
     "data": {
      "text/plain": [
       "array([0, 1])"
      ]
     },
     "execution_count": 17,
     "metadata": {},
     "output_type": "execute_result"
    }
   ],
   "source": [
    "df['Loan Status'].unique()"
   ]
  },
  {
   "cell_type": "code",
   "execution_count": 18,
   "id": "0dbac8ac",
   "metadata": {},
   "outputs": [],
   "source": [
    "import os\n",
    "pd.concat([train_data['Loan Status'], train_data.drop('Loan Status', \n",
    "                                                axis=1)], \n",
    "                                                axis=1).to_csv('train.csv', index=False, header=False)\n",
    "\n",
    "\n",
    "boto3.Session().resource('s3').Bucket(bucket_name).Object(os.path.join(prefix, 'train/train.csv')).upload_file('train.csv')\n",
    "s3_input_train = sagemaker.TrainingInput(s3_data='s3://{}/{}/train'.format(bucket_name, prefix), content_type='csv')"
   ]
  },
  {
   "cell_type": "code",
   "execution_count": 19,
   "id": "a5770dd8",
   "metadata": {},
   "outputs": [],
   "source": [
    "# Test Data Into Buckets\n",
    "pd.concat([test_data['Loan Status'], test_data.drop('Loan Status', axis=1)], axis=1)\\\n",
    ".to_csv('test.csv', index=False, header=False)\n",
    "           \n",
    "                 \n",
    "boto3.Session().resource('s3').Bucket(bucket_name).Object(os.path.join(prefix, 'test/test.csv')).upload_file('test.csv')\n",
    "s3_input_test = sagemaker.TrainingInput(s3_data='s3://{}/{}/test'.format(bucket_name, prefix), content_type='csv')"
   ]
  },
  {
   "cell_type": "markdown",
   "id": "cdc665ee",
   "metadata": {},
   "source": [
    "## Buillding Model - XGboost"
   ]
  },
  {
   "cell_type": "code",
   "execution_count": 20,
   "id": "19bcd0f0",
   "metadata": {},
   "outputs": [
    {
     "name": "stderr",
     "output_type": "stream",
     "text": [
      "The method get_image_uri has been renamed in sagemaker>=2.\n",
      "See: https://sagemaker.readthedocs.io/en/stable/v2.html for details.\n"
     ]
    }
   ],
   "source": [
    "container = get_image_uri(boto3.Session().region_name,\n",
    "                          'xgboost', \n",
    "                          repo_version='1.0-1')\n"
   ]
  },
  {
   "cell_type": "code",
   "execution_count": 21,
   "id": "92b7f736",
   "metadata": {},
   "outputs": [],
   "source": [
    "# initialize hyperparameters\n",
    "hyperparameters = {\n",
    "        \"max_depth\":\"5\",\n",
    "        \"eta\":\"0.2\",\n",
    "        \"gamma\":\"4\",\n",
    "        \"min_child_weight\":\"6\",\n",
    "        \"subsample\":\"0.7\",\n",
    "        \"objective\":\"binary:logistic\",\n",
    "        \"num_round\":50\n",
    "        }"
   ]
  },
  {
   "cell_type": "code",
   "execution_count": 22,
   "id": "bd0151ba",
   "metadata": {},
   "outputs": [
    {
     "name": "stderr",
     "output_type": "stream",
     "text": [
      "train_instance_count has been renamed in sagemaker>=2.\n",
      "See: https://sagemaker.readthedocs.io/en/stable/v2.html for details.\n",
      "train_instance_type has been renamed in sagemaker>=2.\n",
      "See: https://sagemaker.readthedocs.io/en/stable/v2.html for details.\n",
      "train_max_run has been renamed in sagemaker>=2.\n",
      "See: https://sagemaker.readthedocs.io/en/stable/v2.html for details.\n",
      "train_use_spot_instances has been renamed in sagemaker>=2.\n",
      "See: https://sagemaker.readthedocs.io/en/stable/v2.html for details.\n",
      "train_max_wait has been renamed in sagemaker>=2.\n",
      "See: https://sagemaker.readthedocs.io/en/stable/v2.html for details.\n",
      "train_volume_size has been renamed in sagemaker>=2.\n",
      "See: https://sagemaker.readthedocs.io/en/stable/v2.html for details.\n",
      "NOTEBOOK_METADATA_FILE detected but failed to get valid domain and user from it.\n"
     ]
    }
   ],
   "source": [
    "estimator = sagemaker.estimator.Estimator(image_uri=container, \n",
    "                                          hyperparameters=hyperparameters,\n",
    "                                          role=sagemaker.get_execution_role(),\n",
    "                                          train_instance_count=1, \n",
    "                                          train_instance_type='ml.m5.2xlarge', \n",
    "                                          train_volume_size=5,\n",
    "                                          output_path=output_path,\n",
    "                                          train_use_spot_instances=True,\n",
    "                                          train_max_run=300,\n",
    "                                          train_max_wait=600)"
   ]
  },
  {
   "cell_type": "code",
   "execution_count": 23,
   "id": "ca94f2db",
   "metadata": {
    "scrolled": true
   },
   "outputs": [
    {
     "name": "stderr",
     "output_type": "stream",
     "text": [
      "INFO:sagemaker:Creating training-job with name: sagemaker-xgboost-2023-09-27-16-10-34-861\n"
     ]
    },
    {
     "name": "stdout",
     "output_type": "stream",
     "text": [
      "2023-09-27 16:10:35 Starting - Starting the training job...\n",
      "2023-09-27 16:10:50 Starting - Preparing the instances for training......\n",
      "2023-09-27 16:12:02 Downloading - Downloading input data......\n",
      "2023-09-27 16:12:53 Training - Training image download completed. Training in progress..\u001b[34m[2023-09-27 16:13:03.475 ip-10-0-208-158.ec2.internal:7 INFO utils.py:27] RULE_JOB_STOP_SIGNAL_FILENAME: None\u001b[0m\n",
      "\u001b[34mINFO:sagemaker-containers:Imported framework sagemaker_xgboost_container.training\u001b[0m\n",
      "\u001b[34mINFO:sagemaker-containers:Failed to parse hyperparameter objective value binary:logistic to Json.\u001b[0m\n",
      "\u001b[34mReturning the value itself\u001b[0m\n",
      "\u001b[34mINFO:sagemaker-containers:No GPUs detected (normal if no gpus installed)\u001b[0m\n",
      "\u001b[34mINFO:sagemaker_xgboost_container.training:Running XGBoost Sagemaker in algorithm mode\u001b[0m\n",
      "\u001b[34mINFO:root:Determined delimiter of CSV input is ','\u001b[0m\n",
      "\u001b[34mINFO:root:Determined delimiter of CSV input is ','\u001b[0m\n",
      "\u001b[34mINFO:root:Determined delimiter of CSV input is ','\u001b[0m\n",
      "\u001b[34mINFO:root:Determined delimiter of CSV input is ','\u001b[0m\n",
      "\u001b[34mINFO:root:Single node training.\u001b[0m\n",
      "\u001b[34m[16:13:03] 56414x24 matrix with 1353936 entries loaded from /opt/ml/input/data/train?format=csv&label_column=0&delimiter=,\u001b[0m\n",
      "\u001b[34m[16:13:03] 24178x24 matrix with 580272 entries loaded from /opt/ml/input/data/validation?format=csv&label_column=0&delimiter=,\u001b[0m\n",
      "\u001b[34m[2023-09-27 16:13:03.627 ip-10-0-208-158.ec2.internal:7 INFO json_config.py:91] Creating hook from json_config at /opt/ml/input/config/debughookconfig.json.\u001b[0m\n",
      "\u001b[34m[2023-09-27 16:13:03.628 ip-10-0-208-158.ec2.internal:7 INFO hook.py:201] tensorboard_dir has not been set for the hook. SMDebug will not be exporting tensorboard summaries.\u001b[0m\n",
      "\u001b[34m[2023-09-27 16:13:03.628 ip-10-0-208-158.ec2.internal:7 INFO profiler_config_parser.py:102] User has disabled profiler.\u001b[0m\n",
      "\u001b[34m[2023-09-27 16:13:03.629 ip-10-0-208-158.ec2.internal:7 INFO hook.py:255] Saving to /opt/ml/output/tensors\u001b[0m\n",
      "\u001b[34m[2023-09-27 16:13:03.629 ip-10-0-208-158.ec2.internal:7 INFO state_store.py:77] The checkpoint config file /opt/ml/input/config/checkpointconfig.json does not exist.\u001b[0m\n",
      "\u001b[34mINFO:root:Debug hook created from config\u001b[0m\n",
      "\u001b[34mINFO:root:Train matrix has 56414 rows\u001b[0m\n",
      "\u001b[34mINFO:root:Validation matrix has 24178 rows\u001b[0m\n",
      "\u001b[34m[16:13:03] WARNING: /workspace/src/learner.cc:328: \u001b[0m\n",
      "\u001b[34mParameters: { num_round } might not be used.\n",
      "  This may not be accurate due to some parameters are only used in language bindings but\n",
      "  passed down to XGBoost core.  Or some parameters are not used but slip through this\n",
      "  verification. Please open an issue if you find above cases.\u001b[0m\n",
      "\u001b[34m[0]#011train-error:0.23478#011validation-error:0.23513\u001b[0m\n",
      "\u001b[34m[2023-09-27 16:13:03.678 ip-10-0-208-158.ec2.internal:7 INFO hook.py:423] Monitoring the collections: metrics\u001b[0m\n",
      "\u001b[34m[2023-09-27 16:13:03.680 ip-10-0-208-158.ec2.internal:7 INFO hook.py:486] Hook is writing from the hook with pid: 7\u001b[0m\n",
      "\u001b[34m[1]#011train-error:0.23452#011validation-error:0.23426\u001b[0m\n",
      "\u001b[34m[2]#011train-error:0.23441#011validation-error:0.23434\u001b[0m\n",
      "\u001b[34m[3]#011train-error:0.23443#011validation-error:0.23426\u001b[0m\n",
      "\u001b[34m[4]#011train-error:0.23441#011validation-error:0.23434\u001b[0m\n",
      "\u001b[34m[5]#011train-error:0.23436#011validation-error:0.23426\u001b[0m\n",
      "\u001b[34m[6]#011train-error:0.23437#011validation-error:0.23434\u001b[0m\n",
      "\u001b[34m[7]#011train-error:0.23430#011validation-error:0.23426\u001b[0m\n",
      "\u001b[34m[8]#011train-error:0.23429#011validation-error:0.23418\u001b[0m\n",
      "\u001b[34m[9]#011train-error:0.23430#011validation-error:0.23430\u001b[0m\n",
      "\u001b[34m[10]#011train-error:0.23422#011validation-error:0.23434\u001b[0m\n",
      "\u001b[34m[11]#011train-error:0.23420#011validation-error:0.23422\u001b[0m\n",
      "\u001b[34m[12]#011train-error:0.23429#011validation-error:0.23414\u001b[0m\n",
      "\u001b[34m[13]#011train-error:0.23414#011validation-error:0.23406\u001b[0m\n",
      "\u001b[34m[14]#011train-error:0.23406#011validation-error:0.23401\u001b[0m\n",
      "\u001b[34m[15]#011train-error:0.23398#011validation-error:0.23389\u001b[0m\n",
      "\u001b[34m[16]#011train-error:0.23390#011validation-error:0.23410\u001b[0m\n",
      "\u001b[34m[17]#011train-error:0.23352#011validation-error:0.23414\u001b[0m\n",
      "\u001b[34m[18]#011train-error:0.23347#011validation-error:0.23414\u001b[0m\n",
      "\u001b[34m[19]#011train-error:0.23326#011validation-error:0.23414\u001b[0m\n",
      "\u001b[34m[20]#011train-error:0.23315#011validation-error:0.23410\u001b[0m\n",
      "\u001b[34m[21]#011train-error:0.23301#011validation-error:0.23397\u001b[0m\n",
      "\u001b[34m[22]#011train-error:0.23283#011validation-error:0.23372\u001b[0m\n",
      "\u001b[34m[23]#011train-error:0.23218#011validation-error:0.23389\u001b[0m\n",
      "\u001b[34m[24]#011train-error:0.23172#011validation-error:0.23356\u001b[0m\n",
      "\u001b[34m[25]#011train-error:0.23145#011validation-error:0.23356\u001b[0m\n",
      "\u001b[34m[26]#011train-error:0.23111#011validation-error:0.23360\u001b[0m\n",
      "\u001b[34m[27]#011train-error:0.23088#011validation-error:0.23306\u001b[0m\n",
      "\u001b[34m[28]#011train-error:0.23086#011validation-error:0.23298\u001b[0m\n",
      "\u001b[34m[29]#011train-error:0.23063#011validation-error:0.23257\u001b[0m\n",
      "\u001b[34m[30]#011train-error:0.23040#011validation-error:0.23220\u001b[0m\n",
      "\u001b[34m[31]#011train-error:0.23017#011validation-error:0.23228\u001b[0m\n",
      "\u001b[34m[32]#011train-error:0.22987#011validation-error:0.23269\u001b[0m\n",
      "\u001b[34m[33]#011train-error:0.22991#011validation-error:0.23261\u001b[0m\n",
      "\u001b[34m[34]#011train-error:0.22950#011validation-error:0.23224\u001b[0m\n",
      "\u001b[34m[35]#011train-error:0.22964#011validation-error:0.23199\u001b[0m\n",
      "\u001b[34m[36]#011train-error:0.22920#011validation-error:0.23170\u001b[0m\n",
      "\u001b[34m[37]#011train-error:0.22920#011validation-error:0.23174\u001b[0m\n",
      "\u001b[34m[38]#011train-error:0.22904#011validation-error:0.23174\u001b[0m\n",
      "\u001b[34m[39]#011train-error:0.22879#011validation-error:0.23191\u001b[0m\n",
      "\u001b[34m[40]#011train-error:0.22872#011validation-error:0.23153\u001b[0m\n",
      "\u001b[34m[41]#011train-error:0.22856#011validation-error:0.23186\u001b[0m\n",
      "\u001b[34m[42]#011train-error:0.22863#011validation-error:0.23182\u001b[0m\n",
      "\u001b[34m[43]#011train-error:0.22821#011validation-error:0.23199\u001b[0m\n",
      "\u001b[34m[44]#011train-error:0.22810#011validation-error:0.23166\u001b[0m\n",
      "\u001b[34m[45]#011train-error:0.22805#011validation-error:0.23178\u001b[0m\n",
      "\u001b[34m[46]#011train-error:0.22767#011validation-error:0.23170\u001b[0m\n",
      "\u001b[34m[47]#011train-error:0.22760#011validation-error:0.23166\u001b[0m\n",
      "\u001b[34m[48]#011train-error:0.22751#011validation-error:0.23186\u001b[0m\n",
      "\u001b[34m[49]#011train-error:0.22743#011validation-error:0.23232\u001b[0m\n",
      "\n",
      "2023-09-27 16:13:19 Uploading - Uploading generated training model\n",
      "2023-09-27 16:13:19 Completed - Training job completed\n",
      "Training seconds: 77\n",
      "Billable seconds: 42\n",
      "Managed Spot Training savings: 45.5%\n"
     ]
    }
   ],
   "source": [
    "estimator.fit({'train': s3_input_train,'validation': s3_input_test})"
   ]
  },
  {
   "cell_type": "markdown",
   "id": "1a8b8869",
   "metadata": {},
   "source": [
    "## Deploying Machine Learning Model End Point"
   ]
  },
  {
   "cell_type": "code",
   "execution_count": 24,
   "id": "d41a938e",
   "metadata": {},
   "outputs": [
    {
     "name": "stderr",
     "output_type": "stream",
     "text": [
      "INFO:sagemaker:Creating model with name: sagemaker-xgboost-2023-09-27-16-13-47-461\n",
      "INFO:sagemaker:Creating endpoint-config with name sagemaker-xgboost-2023-09-27-16-13-47-461\n",
      "INFO:sagemaker:Creating endpoint with name sagemaker-xgboost-2023-09-27-16-13-47-461\n"
     ]
    },
    {
     "name": "stdout",
     "output_type": "stream",
     "text": [
      "-------!"
     ]
    }
   ],
   "source": [
    "xgb_predictor = estimator.deploy(initial_instance_count=1,instance_type='ml.m4.xlarge')"
   ]
  },
  {
   "cell_type": "code",
   "execution_count": 25,
   "id": "2b6b0fad",
   "metadata": {},
   "outputs": [],
   "source": [
    "from sagemaker.serializers import CSVSerializer"
   ]
  },
  {
   "cell_type": "code",
   "execution_count": null,
   "id": "ac06bc70",
   "metadata": {},
   "outputs": [],
   "source": []
  },
  {
   "cell_type": "code",
   "execution_count": 31,
   "id": "f950d2b1",
   "metadata": {},
   "outputs": [
    {
     "name": "stdout",
     "output_type": "stream",
     "text": [
      "(24178,)\n"
     ]
    }
   ],
   "source": [
    "test_data_array = test_data.drop('Loan Status', axis=1).values\n",
    "#xgb_predictor.content_type = 'csv' \n",
    "xgb_predictor.serializer = CSVSerializer('text/csv')\n",
    "predictions = xgb_predictor.predict(test_data_array).decode('utf-8') \n",
    "predictions_array = np.fromstring(predictions[1:], sep=',') # turn the prediction into an array\n",
    "print(predictions_array.shape)\n"
   ]
  },
  {
   "cell_type": "code",
   "execution_count": 32,
   "id": "831005f4",
   "metadata": {},
   "outputs": [
    {
     "data": {
      "text/plain": [
       "array([0.83247101, 0.72646326, 0.74559385, ..., 0.62559789, 0.00151734,\n",
       "       0.77625239])"
      ]
     },
     "execution_count": 32,
     "metadata": {},
     "output_type": "execute_result"
    }
   ],
   "source": [
    "predictions_array"
   ]
  },
  {
   "cell_type": "code",
   "execution_count": 36,
   "id": "ca61697e",
   "metadata": {},
   "outputs": [
    {
     "name": "stdout",
     "output_type": "stream",
     "text": [
      "\n",
      "Overall Classification Rate: 76.8%\n",
      "\n",
      "Predicted      Given          Not Given\n",
      "Observed\n",
      "Given          85% (2314)    24% (5198)\n",
      "Not Given       15% (419)     76% (16247) \n",
      "\n"
     ]
    }
   ],
   "source": [
    "cm = pd.crosstab(index=test_data['Loan Status'], columns=np.round(predictions_array), rownames=['Observed'], colnames=['Predicted'])\n",
    "tn = cm.iloc[0,0]; fn = cm.iloc[1,0]; tp = cm.iloc[1,1]; fp = cm.iloc[0,1]; p = (tp+tn)/(tp+tn+fp+fn)*100\n",
    "print(\"\\n{0:<20}{1:<4.1f}%\\n\".format(\"Overall Classification Rate: \", p))\n",
    "print(\"{0:<15}{1:<15}{2:>8}\".format(\"Predicted\", \"Given\", \"Not Given\"))\n",
    "print(\"Observed\")\n",
    "print(\"{0:<15}{1:<2.0f}% ({2:<}){3:>6.0f}% ({4:<})\".format(\"Given\", tn/(tn+fn)*100,tn, fp/(tp+fp)*100, fp))\n",
    "print(\"{0:<16}{1:<1.0f}% ({2:<}){3:>7.0f}% ({4:<}) \\n\".format(\"Not Given\", fn/(tn+fn)*100,fn, tp/(tp+fp)*100, tp))"
   ]
  },
  {
   "cell_type": "markdown",
   "id": "0850496b",
   "metadata": {},
   "source": [
    "**Observatio**\n",
    "\n",
    "- 85% of the time - the model was able to predict that the loan was 'Given' and that was the case\n",
    "- 24% of the time - the model miss classified 'Not Given' as 'Given' \n",
    "- 15% of the time - the model miss classificed 'Given' as 'Not Given\"\n",
    "- 76% of the time - the model stated 'Not Given' and that was the case \n"
   ]
  },
  {
   "cell_type": "markdown",
   "id": "c61f0d19",
   "metadata": {},
   "source": [
    "## Deleting the Resources after use \n",
    "\n",
    "- The code below automatically deletes provisioned resouces to avoid encuring extra cost."
   ]
  },
  {
   "cell_type": "code",
   "execution_count": 27,
   "id": "3d3e60f8",
   "metadata": {},
   "outputs": [],
   "source": [
    "# sagemaker.Session().delete_endpoint(xgb_predictor.endpoint)\n",
    "# bucket_to_delete = boto3.resource('s3').Bucket(bucket_name)\n",
    "# bucket_to_delete.objects.all().delete()"
   ]
  },
  {
   "cell_type": "code",
   "execution_count": null,
   "id": "d5a84775",
   "metadata": {},
   "outputs": [],
   "source": []
  },
  {
   "cell_type": "code",
   "execution_count": null,
   "id": "1334a024",
   "metadata": {},
   "outputs": [],
   "source": []
  },
  {
   "cell_type": "code",
   "execution_count": null,
   "id": "1090fe2d",
   "metadata": {},
   "outputs": [],
   "source": []
  }
 ],
 "metadata": {
  "kernelspec": {
   "display_name": "conda_python3",
   "language": "python",
   "name": "conda_python3"
  },
  "language_info": {
   "codemirror_mode": {
    "name": "ipython",
    "version": 3
   },
   "file_extension": ".py",
   "mimetype": "text/x-python",
   "name": "python",
   "nbconvert_exporter": "python",
   "pygments_lexer": "ipython3",
   "version": "3.10.12"
  }
 },
 "nbformat": 4,
 "nbformat_minor": 5
}
